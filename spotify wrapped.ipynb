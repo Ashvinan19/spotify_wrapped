{
 "cells": [
  {
   "cell_type": "code",
   "execution_count": 1,
   "id": "29c232b6-ab1d-4a27-a9f5-120658f1ca57",
   "metadata": {},
   "outputs": [
    {
     "name": "stdout",
     "output_type": "stream",
     "text": [
      "Requirement already satisfied: spotipy in c:\\users\\ashvi\\anaconda3\\lib\\site-packages (2.25.1)\n",
      "Requirement already satisfied: redis>=3.5.3 in c:\\users\\ashvi\\anaconda3\\lib\\site-packages (from spotipy) (6.2.0)\n",
      "Requirement already satisfied: requests>=2.25.0 in c:\\users\\ashvi\\anaconda3\\lib\\site-packages (from spotipy) (2.32.3)\n",
      "Requirement already satisfied: urllib3>=1.26.0 in c:\\users\\ashvi\\anaconda3\\lib\\site-packages (from spotipy) (2.2.3)\n",
      "Requirement already satisfied: charset-normalizer<4,>=2 in c:\\users\\ashvi\\anaconda3\\lib\\site-packages (from requests>=2.25.0->spotipy) (3.3.2)\n",
      "Requirement already satisfied: idna<4,>=2.5 in c:\\users\\ashvi\\anaconda3\\lib\\site-packages (from requests>=2.25.0->spotipy) (3.7)\n",
      "Requirement already satisfied: certifi>=2017.4.17 in c:\\users\\ashvi\\anaconda3\\lib\\site-packages (from requests>=2.25.0->spotipy) (2025.4.26)\n"
     ]
    }
   ],
   "source": [
    "!pip install spotipy"
   ]
  },
  {
   "cell_type": "code",
   "execution_count": 2,
   "id": "cc13711f-f0c8-4001-9502-fe15b843208f",
   "metadata": {},
   "outputs": [],
   "source": [
    "import requests\n",
    "import spotipy\n",
    "from spotipy.oauth2 import SpotifyOAuth\n",
    "import pandas as pd\n",
    "import time\n",
    "import datetime\n",
    "\n"
   ]
  },
  {
   "cell_type": "code",
   "execution_count": 3,
   "id": "0244163f-22f1-46be-b957-466fadcea7ba",
   "metadata": {},
   "outputs": [],
   "source": [
    "SPOTIPY_CLIENT_ID='441101b3b911447d80bd64ba2400a710'\n",
    "SPOTIPY_CLIENT_SECRET='97747a3e40644e058fad11fede6649e3'\n",
    "SPOTIPY_REDIRECT_URI='http://127.0.0.1:9090/callback'\n",
    "SCOPE = \"user-top-read\"\n"
   ]
  },
  {
   "cell_type": "code",
   "execution_count": 4,
   "id": "c332e7f9-7fa5-4af7-a7fb-adf1a10a7c39",
   "metadata": {},
   "outputs": [],
   "source": [
    "\n",
    "sp = spotipy.Spotify(auth_manager=SpotifyOAuth(client_id=SPOTIPY_CLIENT_ID, \n",
    "                                               client_secret=SPOTIPY_CLIENT_SECRET, \n",
    "                                               redirect_uri=SPOTIPY_REDIRECT_URI, \n",
    "                                               scope=SCOPE))"
   ]
  },
  {
   "cell_type": "code",
   "execution_count": 25,
   "id": "02decbdc-19c6-4549-8603-4acde8ec87bb",
   "metadata": {},
   "outputs": [],
   "source": [
    "\n",
    "top_tracks_short = sp.current_user_top_tracks(limit=20,offset=0,time_range= \"medium_term\")\n"
   ]
  },
  {
   "cell_type": "code",
   "execution_count": 26,
   "id": "e6c01ee4-a82c-4685-a08f-91d86fbce4c1",
   "metadata": {},
   "outputs": [
    {
     "data": {
      "text/plain": [
       "dict"
      ]
     },
     "execution_count": 26,
     "metadata": {},
     "output_type": "execute_result"
    }
   ],
   "source": [
    "type(top_tracks_short)"
   ]
  },
  {
   "cell_type": "code",
   "execution_count": 27,
   "id": "85260679-dc8f-4413-aa3d-2461170b7fcd",
   "metadata": {},
   "outputs": [],
   "source": [
    "def get_track_ids(time_frame):\n",
    "    track_ids=[]\n",
    "    for song in time_frame['items']:\n",
    "        track_ids.append(song['id'])\n",
    "    return track_ids"
   ]
  },
  {
   "cell_type": "code",
   "execution_count": 28,
   "id": "a1d5e140-378a-41e6-96e2-320bf3b1a98c",
   "metadata": {},
   "outputs": [],
   "source": [
    "track_ids= get_track_ids(top_tracks_short)"
   ]
  },
  {
   "cell_type": "code",
   "execution_count": 29,
   "id": "5808bc59-494b-4386-9065-4cfe72af87ad",
   "metadata": {},
   "outputs": [
    {
     "data": {
      "text/plain": [
       "['4HG1YiGBseVKzjyKcmAJen',\n",
       " '1YHQQFtKqFSFrqL4cNvstU',\n",
       " '7DL2F2bueQycqYjqsjHYjG',\n",
       " '4xR3MAscflQ262kMeiKshQ',\n",
       " '6n3HGiq4v35D6eFOSwqYuo',\n",
       " '4IcbUXrAzBtn6iUO1LP471',\n",
       " '5GUYJTQap5F3RDQiCOJhrS',\n",
       " '2Q3jFbyE61mCjS3SkW4toJ',\n",
       " '1C7KSXR2GVxknex6I4ANco',\n",
       " '4S7YHmlWwfwArgd8LfSPud',\n",
       " '3IHt4j5uAEl7iBu8Utn985',\n",
       " '0NUqi0ps17YpLUC3kgsZq0',\n",
       " '4GqhG9rDuRUoNyDSMJ0Brq',\n",
       " '2Gnsof1hvZzjE1xdLRpjtf',\n",
       " '31bsuKDOzFGzBAoXxtnAJm',\n",
       " '34D6FJysnQioVingDKufuf',\n",
       " '2gEmgpnxseKEVRTwkSGopN',\n",
       " '5Nz7hI3cCOHmMR4vSLJ1An',\n",
       " '6ImxYXeLDQPIv4qo7bMhSk',\n",
       " '6cEguiQecbXrFlsnMi2ysr']"
      ]
     },
     "execution_count": 29,
     "metadata": {},
     "output_type": "execute_result"
    }
   ],
   "source": [
    "track_ids"
   ]
  },
  {
   "cell_type": "code",
   "execution_count": 30,
   "id": "37b03dac-0f95-4ba6-8f8c-452f0bfb8752",
   "metadata": {},
   "outputs": [],
   "source": [
    "track_id='3cjF2OFRmip8spwZYQRKxP' "
   ]
  },
  {
   "cell_type": "code",
   "execution_count": 31,
   "id": "223d894a-dbb6-407e-b450-c9fd12b21467",
   "metadata": {},
   "outputs": [],
   "source": [
    "def get_track_features(id):\n",
    "    meta=sp.track(id)\n",
    "    name=meta['name']\n",
    "    album=meta['album']['name']\n",
    "    artist= meta['album']['artists'][0]['name']\n",
    "    spotify_url=meta['external_urls']['spotify']\n",
    "    album_cover=meta['album']['images'][0]['url']\n",
    "    track_info=[name,album,artist,spotify_url,album_cover]\n",
    "    return track_info"
   ]
  },
  {
   "cell_type": "code",
   "execution_count": 32,
   "id": "6273c4a1-9846-4035-847b-1cb402312ec9",
   "metadata": {},
   "outputs": [
    {
     "data": {
      "text/plain": [
       "['Feel No Ways',\n",
       " 'Views',\n",
       " 'Drake',\n",
       " 'https://open.spotify.com/track/3cjF2OFRmip8spwZYQRKxP',\n",
       " 'https://i.scdn.co/image/ab67616d0000b2739416ed64daf84936d89e671c']"
      ]
     },
     "execution_count": 32,
     "metadata": {},
     "output_type": "execute_result"
    }
   ],
   "source": [
    "get_track_features(track_id)"
   ]
  },
  {
   "cell_type": "code",
   "execution_count": 33,
   "id": "84ac7a7d-34f4-4e19-b3c8-bfc2ed8eddf0",
   "metadata": {},
   "outputs": [],
   "source": [
    "tracks=[]\n",
    "for i in range(len(track_ids)):\n",
    "    time.sleep(.5)\n",
    "    track=get_track_features(track_ids[i])\n",
    "    tracks.append(track)"
   ]
  },
  {
   "cell_type": "code",
   "execution_count": 34,
   "id": "4aea7413-6e3e-4c25-9726-36ef4a3cdb7a",
   "metadata": {},
   "outputs": [
    {
     "data": {
      "text/plain": [
       "[['Summer Games',\n",
       "  'Scorpion',\n",
       "  'Drake',\n",
       "  'https://open.spotify.com/track/4HG1YiGBseVKzjyKcmAJen',\n",
       "  'https://i.scdn.co/image/ab67616d0000b273f907de96b9a4fbc04accc0d5'],\n",
       " ['SMALL TOWN FAME',\n",
       "  '$ome $exy $ongs 4 U',\n",
       "  'PARTYNEXTDOOR',\n",
       "  'https://open.spotify.com/track/1YHQQFtKqFSFrqL4cNvstU',\n",
       "  'https://i.scdn.co/image/ab67616d0000b273cc392813bfd8f63d4d5f4a95'],\n",
       " ['MOTH BALLS',\n",
       "  '$ome $exy $ongs 4 U',\n",
       "  'PARTYNEXTDOOR',\n",
       "  'https://open.spotify.com/track/7DL2F2bueQycqYjqsjHYjG',\n",
       "  'https://i.scdn.co/image/ab67616d0000b273cc392813bfd8f63d4d5f4a95'],\n",
       " ['Skyline To',\n",
       "  'Blonde',\n",
       "  'Frank Ocean',\n",
       "  'https://open.spotify.com/track/4xR3MAscflQ262kMeiKshQ',\n",
       "  'https://i.scdn.co/image/ab67616d0000b273c5649add07ed3720be9d5526'],\n",
       " ['Teenage Fever',\n",
       "  'More Life',\n",
       "  'Drake',\n",
       "  'https://open.spotify.com/track/6n3HGiq4v35D6eFOSwqYuo',\n",
       "  'https://i.scdn.co/image/ab67616d0000b2734f0fd9dad63977146e685700'],\n",
       " ['Away From Home',\n",
       "  'For All The Dogs',\n",
       "  'Drake',\n",
       "  'https://open.spotify.com/track/4IcbUXrAzBtn6iUO1LP471',\n",
       "  'https://i.scdn.co/image/ab67616d0000b2737d384516b23347e92a587ed1'],\n",
       " ['Self Control',\n",
       "  'Blonde',\n",
       "  'Frank Ocean',\n",
       "  'https://open.spotify.com/track/5GUYJTQap5F3RDQiCOJhrS',\n",
       "  'https://i.scdn.co/image/ab67616d0000b273c5649add07ed3720be9d5526'],\n",
       " ['Race My Mind',\n",
       "  'Certified Lover Boy',\n",
       "  'Drake',\n",
       "  'https://open.spotify.com/track/2Q3jFbyE61mCjS3SkW4toJ',\n",
       "  'https://i.scdn.co/image/ab67616d0000b273cd945b4e3de57edd28481a3f'],\n",
       " ['9',\n",
       "  'Views',\n",
       "  'Drake',\n",
       "  'https://open.spotify.com/track/1C7KSXR2GVxknex6I4ANco',\n",
       "  'https://i.scdn.co/image/ab67616d0000b2739416ed64daf84936d89e671c'],\n",
       " ['L$D',\n",
       "  'AT.LONG.LAST.A$AP',\n",
       "  'A$AP Rocky',\n",
       "  'https://open.spotify.com/track/4S7YHmlWwfwArgd8LfSPud',\n",
       "  'https://i.scdn.co/image/ab67616d0000b27316b101f81a8284ec71048d91'],\n",
       " ['Tried Our Best',\n",
       "  'For All The Dogs',\n",
       "  'Drake',\n",
       "  'https://open.spotify.com/track/3IHt4j5uAEl7iBu8Utn985',\n",
       "  'https://i.scdn.co/image/ab67616d0000b2737d384516b23347e92a587ed1'],\n",
       " ['DIE TRYING',\n",
       "  '$ome $exy $ongs 4 U',\n",
       "  'PARTYNEXTDOOR',\n",
       "  'https://open.spotify.com/track/0NUqi0ps17YpLUC3kgsZq0',\n",
       "  'https://i.scdn.co/image/ab67616d0000b273cc392813bfd8f63d4d5f4a95'],\n",
       " ['SPIDER-MAN SUPERMAN',\n",
       "  '$ome $exy $ongs 4 U',\n",
       "  'PARTYNEXTDOOR',\n",
       "  'https://open.spotify.com/track/4GqhG9rDuRUoNyDSMJ0Brq',\n",
       "  'https://i.scdn.co/image/ab67616d0000b273cc392813bfd8f63d4d5f4a95'],\n",
       " ['Over My Dead Body',\n",
       "  'Take Care (Deluxe)',\n",
       "  'Drake',\n",
       "  'https://open.spotify.com/track/2Gnsof1hvZzjE1xdLRpjtf',\n",
       "  'https://i.scdn.co/image/ab67616d0000b273c7ea04a9b455e3f68ef82550'],\n",
       " ['I Guess It’s Fuck Me',\n",
       "  'Her Loss',\n",
       "  'Drake',\n",
       "  'https://open.spotify.com/track/31bsuKDOzFGzBAoXxtnAJm',\n",
       "  'https://i.scdn.co/image/ab67616d0000b27302854a7060fccc1a66a4b5ad'],\n",
       " ['N 2 Deep',\n",
       "  'Certified Lover Boy',\n",
       "  'Drake',\n",
       "  'https://open.spotify.com/track/34D6FJysnQioVingDKufuf',\n",
       "  'https://i.scdn.co/image/ab67616d0000b273cd945b4e3de57edd28481a3f'],\n",
       " ['White (feat. Frank Ocean)',\n",
       "  'The OF Tape Vol. 2',\n",
       "  'Odd Future',\n",
       "  'https://open.spotify.com/track/2gEmgpnxseKEVRTwkSGopN',\n",
       "  'https://i.scdn.co/image/ab67616d0000b2731dd05262c971257279fcaf61'],\n",
       " ['GIMME A HUG',\n",
       "  '$ome $exy $ongs 4 U',\n",
       "  'PARTYNEXTDOOR',\n",
       "  'https://open.spotify.com/track/5Nz7hI3cCOHmMR4vSLJ1An',\n",
       "  'https://i.scdn.co/image/ab67616d0000b273cc392813bfd8f63d4d5f4a95'],\n",
       " ['Company',\n",
       "  \"If You're Reading This It's Too Late\",\n",
       "  'Drake',\n",
       "  'https://open.spotify.com/track/6ImxYXeLDQPIv4qo7bMhSk',\n",
       "  'https://i.scdn.co/image/ab67616d0000b2732090f4f6cc406e6d3c306733'],\n",
       " ['Come and See Me (feat. Drake)',\n",
       "  'PARTYNEXTDOOR 3 (P3)',\n",
       "  'PARTYNEXTDOOR',\n",
       "  'https://open.spotify.com/track/6cEguiQecbXrFlsnMi2ysr',\n",
       "  'https://i.scdn.co/image/ab67616d0000b273240b49b7795e0611ccf416b7']]"
      ]
     },
     "execution_count": 34,
     "metadata": {},
     "output_type": "execute_result"
    }
   ],
   "source": [
    "tracks"
   ]
  },
  {
   "cell_type": "code",
   "execution_count": 35,
   "id": "1438a7b1-93fc-44e4-836c-5498e57dade8",
   "metadata": {},
   "outputs": [
    {
     "data": {
      "text/html": [
       "<div>\n",
       "<style scoped>\n",
       "    .dataframe tbody tr th:only-of-type {\n",
       "        vertical-align: middle;\n",
       "    }\n",
       "\n",
       "    .dataframe tbody tr th {\n",
       "        vertical-align: top;\n",
       "    }\n",
       "\n",
       "    .dataframe thead th {\n",
       "        text-align: right;\n",
       "    }\n",
       "</style>\n",
       "<table border=\"1\" class=\"dataframe\">\n",
       "  <thead>\n",
       "    <tr style=\"text-align: right;\">\n",
       "      <th></th>\n",
       "      <th>name</th>\n",
       "      <th>album</th>\n",
       "      <th>artist</th>\n",
       "      <th>spotify_url</th>\n",
       "      <th>album_cover</th>\n",
       "    </tr>\n",
       "  </thead>\n",
       "  <tbody>\n",
       "    <tr>\n",
       "      <th>0</th>\n",
       "      <td>Summer Games</td>\n",
       "      <td>Scorpion</td>\n",
       "      <td>Drake</td>\n",
       "      <td>https://open.spotify.com/track/4HG1YiGBseVKzjy...</td>\n",
       "      <td>https://i.scdn.co/image/ab67616d0000b273f907de...</td>\n",
       "    </tr>\n",
       "    <tr>\n",
       "      <th>1</th>\n",
       "      <td>SMALL TOWN FAME</td>\n",
       "      <td>$ome $exy $ongs 4 U</td>\n",
       "      <td>PARTYNEXTDOOR</td>\n",
       "      <td>https://open.spotify.com/track/1YHQQFtKqFSFrqL...</td>\n",
       "      <td>https://i.scdn.co/image/ab67616d0000b273cc3928...</td>\n",
       "    </tr>\n",
       "    <tr>\n",
       "      <th>2</th>\n",
       "      <td>MOTH BALLS</td>\n",
       "      <td>$ome $exy $ongs 4 U</td>\n",
       "      <td>PARTYNEXTDOOR</td>\n",
       "      <td>https://open.spotify.com/track/7DL2F2bueQycqYj...</td>\n",
       "      <td>https://i.scdn.co/image/ab67616d0000b273cc3928...</td>\n",
       "    </tr>\n",
       "    <tr>\n",
       "      <th>3</th>\n",
       "      <td>Skyline To</td>\n",
       "      <td>Blonde</td>\n",
       "      <td>Frank Ocean</td>\n",
       "      <td>https://open.spotify.com/track/4xR3MAscflQ262k...</td>\n",
       "      <td>https://i.scdn.co/image/ab67616d0000b273c5649a...</td>\n",
       "    </tr>\n",
       "    <tr>\n",
       "      <th>4</th>\n",
       "      <td>Teenage Fever</td>\n",
       "      <td>More Life</td>\n",
       "      <td>Drake</td>\n",
       "      <td>https://open.spotify.com/track/6n3HGiq4v35D6eF...</td>\n",
       "      <td>https://i.scdn.co/image/ab67616d0000b2734f0fd9...</td>\n",
       "    </tr>\n",
       "  </tbody>\n",
       "</table>\n",
       "</div>"
      ],
      "text/plain": [
       "              name                album         artist  \\\n",
       "0     Summer Games             Scorpion          Drake   \n",
       "1  SMALL TOWN FAME  $ome $exy $ongs 4 U  PARTYNEXTDOOR   \n",
       "2       MOTH BALLS  $ome $exy $ongs 4 U  PARTYNEXTDOOR   \n",
       "3       Skyline To               Blonde    Frank Ocean   \n",
       "4    Teenage Fever            More Life          Drake   \n",
       "\n",
       "                                         spotify_url  \\\n",
       "0  https://open.spotify.com/track/4HG1YiGBseVKzjy...   \n",
       "1  https://open.spotify.com/track/1YHQQFtKqFSFrqL...   \n",
       "2  https://open.spotify.com/track/7DL2F2bueQycqYj...   \n",
       "3  https://open.spotify.com/track/4xR3MAscflQ262k...   \n",
       "4  https://open.spotify.com/track/6n3HGiq4v35D6eF...   \n",
       "\n",
       "                                         album_cover  \n",
       "0  https://i.scdn.co/image/ab67616d0000b273f907de...  \n",
       "1  https://i.scdn.co/image/ab67616d0000b273cc3928...  \n",
       "2  https://i.scdn.co/image/ab67616d0000b273cc3928...  \n",
       "3  https://i.scdn.co/image/ab67616d0000b273c5649a...  \n",
       "4  https://i.scdn.co/image/ab67616d0000b2734f0fd9...  "
      ]
     },
     "execution_count": 35,
     "metadata": {},
     "output_type": "execute_result"
    }
   ],
   "source": [
    "df=pd.DataFrame(tracks,columns= ['name','album','artist','spotify_url','album_cover'])\n",
    "df.head(5)"
   ]
  },
  {
   "cell_type": "code",
   "execution_count": 36,
   "id": "a39684da-a608-42e5-bab2-2cdf41f78535",
   "metadata": {},
   "outputs": [
    {
     "name": "stdout",
     "output_type": "stream",
     "text": [
      "Collecting gspread\n",
      "  Downloading gspread-6.2.1-py3-none-any.whl.metadata (11 kB)\n",
      "Collecting google-auth>=1.12.0 (from gspread)\n",
      "  Downloading google_auth-2.40.3-py2.py3-none-any.whl.metadata (6.2 kB)\n",
      "Collecting google-auth-oauthlib>=0.4.1 (from gspread)\n",
      "  Downloading google_auth_oauthlib-1.2.2-py3-none-any.whl.metadata (2.7 kB)\n",
      "Requirement already satisfied: cachetools<6.0,>=2.0.0 in c:\\users\\ashvi\\anaconda3\\lib\\site-packages (from google-auth>=1.12.0->gspread) (5.3.3)\n",
      "Requirement already satisfied: pyasn1-modules>=0.2.1 in c:\\users\\ashvi\\anaconda3\\lib\\site-packages (from google-auth>=1.12.0->gspread) (0.2.8)\n",
      "Collecting rsa<5,>=3.1.4 (from google-auth>=1.12.0->gspread)\n",
      "  Downloading rsa-4.9.1-py3-none-any.whl.metadata (5.6 kB)\n",
      "Collecting requests-oauthlib>=0.7.0 (from google-auth-oauthlib>=0.4.1->gspread)\n",
      "  Downloading requests_oauthlib-2.0.0-py2.py3-none-any.whl.metadata (11 kB)\n",
      "Requirement already satisfied: pyasn1<0.5.0,>=0.4.6 in c:\\users\\ashvi\\anaconda3\\lib\\site-packages (from pyasn1-modules>=0.2.1->google-auth>=1.12.0->gspread) (0.4.8)\n",
      "Collecting oauthlib>=3.0.0 (from requests-oauthlib>=0.7.0->google-auth-oauthlib>=0.4.1->gspread)\n",
      "  Downloading oauthlib-3.3.1-py3-none-any.whl.metadata (7.9 kB)\n",
      "Requirement already satisfied: requests>=2.0.0 in c:\\users\\ashvi\\anaconda3\\lib\\site-packages (from requests-oauthlib>=0.7.0->google-auth-oauthlib>=0.4.1->gspread) (2.32.3)\n",
      "Requirement already satisfied: charset-normalizer<4,>=2 in c:\\users\\ashvi\\anaconda3\\lib\\site-packages (from requests>=2.0.0->requests-oauthlib>=0.7.0->google-auth-oauthlib>=0.4.1->gspread) (3.3.2)\n",
      "Requirement already satisfied: idna<4,>=2.5 in c:\\users\\ashvi\\anaconda3\\lib\\site-packages (from requests>=2.0.0->requests-oauthlib>=0.7.0->google-auth-oauthlib>=0.4.1->gspread) (3.7)\n",
      "Requirement already satisfied: urllib3<3,>=1.21.1 in c:\\users\\ashvi\\anaconda3\\lib\\site-packages (from requests>=2.0.0->requests-oauthlib>=0.7.0->google-auth-oauthlib>=0.4.1->gspread) (2.2.3)\n",
      "Requirement already satisfied: certifi>=2017.4.17 in c:\\users\\ashvi\\anaconda3\\lib\\site-packages (from requests>=2.0.0->requests-oauthlib>=0.7.0->google-auth-oauthlib>=0.4.1->gspread) (2025.4.26)\n",
      "Downloading gspread-6.2.1-py3-none-any.whl (59 kB)\n",
      "Downloading google_auth-2.40.3-py2.py3-none-any.whl (216 kB)\n",
      "Downloading google_auth_oauthlib-1.2.2-py3-none-any.whl (19 kB)\n",
      "Downloading requests_oauthlib-2.0.0-py2.py3-none-any.whl (24 kB)\n",
      "Downloading rsa-4.9.1-py3-none-any.whl (34 kB)\n",
      "Downloading oauthlib-3.3.1-py3-none-any.whl (160 kB)\n",
      "Installing collected packages: rsa, oauthlib, requests-oauthlib, google-auth, google-auth-oauthlib, gspread\n",
      "Successfully installed google-auth-2.40.3 google-auth-oauthlib-1.2.2 gspread-6.2.1 oauthlib-3.3.1 requests-oauthlib-2.0.0 rsa-4.9.1\n"
     ]
    }
   ],
   "source": [
    "!pip install gspread"
   ]
  },
  {
   "cell_type": "code",
   "execution_count": 42,
   "id": "0e3b7860-ef41-492b-85a8-7733d2310679",
   "metadata": {},
   "outputs": [],
   "source": [
    "import gspread"
   ]
  },
  {
   "cell_type": "code",
   "execution_count": 43,
   "id": "aa39982e-9882-4c3a-8141-aaf03036d8a2",
   "metadata": {},
   "outputs": [],
   "source": [
    "gc = gspread.service_account(filename=r\"C:\\Users\\Ashvi\\Downloads\\my-spotify-wrapped-test-464000-4f7e90203094.json\")\n"
   ]
  },
  {
   "cell_type": "code",
   "execution_count": 44,
   "id": "fa8b16f6-0043-47eb-ab01-d4830d5bd491",
   "metadata": {},
   "outputs": [],
   "source": [
    "sh=gc.open(\"My Spotify Wrapped\")"
   ]
  },
  {
   "cell_type": "code",
   "execution_count": 45,
   "id": "b6dd0c08-e0b4-42aa-97f3-2a2b9729f2ab",
   "metadata": {},
   "outputs": [],
   "source": [
    "worksheet= sh.worksheet(\"short_term\")"
   ]
  },
  {
   "cell_type": "code",
   "execution_count": 49,
   "id": "689e49cb-8433-4af3-bb4f-229b79e6f749",
   "metadata": {},
   "outputs": [
    {
     "name": "stdout",
     "output_type": "stream",
     "text": [
      "FIND ME\n"
     ]
    }
   ],
   "source": [
    "sh = gc.open(\"My Spotify Wrapped\")\n",
    "worksheet = sh.worksheet(\"short_term\")\n",
    "val = worksheet.acell('B5').value\n",
    "print(val)"
   ]
  },
  {
   "cell_type": "code",
   "execution_count": 51,
   "id": "5da0c48f-76b7-4fd2-8c74-45a0997b9bd9",
   "metadata": {},
   "outputs": [],
   "source": [
    "#worksheet.update([dataframe.columns.values.tolist()] + dataframe.values.tolist())"
   ]
  },
  {
   "cell_type": "code",
   "execution_count": 54,
   "id": "6fba8ef8-16f9-4a0b-b27a-0507a80ab76a",
   "metadata": {},
   "outputs": [],
   "source": [
    "def insert_to_gsheet(track_ids):\n",
    "    tracks=[]\n",
    "    for i in range(len(track_ids)):\n",
    "        time.sleep(.5)\n",
    "        track=get_track_features(track_ids[i])\n",
    "        tracks.append(track)\n",
    "    df = pd.DataFrame(tracks, columns = ['name', 'album', 'artist', 'spotify_url', 'album_cover'])\n",
    "    gc = gspread.service_account(filename=r\"C:\\Users\\Ashvi\\Downloads\\my-spotify-wrapped-test-464000-4f7e90203094.json\")\n",
    "    sh=gc.open(\"My Spotify Wrapped\")\n",
    "    worksheet = sh.worksheet(f'{time_period}')\n",
    "    worksheet.update([df.columns.values.tolist()] + df.values.tolist())\n",
    "    print('Done')\n",
    "    \n",
    "\n",
    "\n"
   ]
  },
  {
   "cell_type": "code",
   "execution_count": 55,
   "id": "04b50268-8f88-4a08-b1a5-f7d6f509079b",
   "metadata": {},
   "outputs": [
    {
     "name": "stdout",
     "output_type": "stream",
     "text": [
      "Done\n",
      "Done\n",
      "Done\n"
     ]
    }
   ],
   "source": [
    "\n",
    "time_ranges = ['short_term', 'medium_term', 'long_term']\n",
    "for time_period in time_ranges:\n",
    "    top_tracks = sp.current_user_top_tracks(limit=20, offset=0, time_range=time_period)\n",
    "    track_ids = get_track_ids(top_tracks)\n",
    "    insert_to_gsheet(track_ids)"
   ]
  },
  {
   "cell_type": "code",
   "execution_count": null,
   "id": "4078f446-7c29-4eab-add9-785b88cbd047",
   "metadata": {},
   "outputs": [],
   "source": []
  }
 ],
 "metadata": {
  "kernelspec": {
   "display_name": "Python [conda env:base] *",
   "language": "python",
   "name": "conda-base-py"
  },
  "language_info": {
   "codemirror_mode": {
    "name": "ipython",
    "version": 3
   },
   "file_extension": ".py",
   "mimetype": "text/x-python",
   "name": "python",
   "nbconvert_exporter": "python",
   "pygments_lexer": "ipython3",
   "version": "3.12.7"
  }
 },
 "nbformat": 4,
 "nbformat_minor": 5
}
